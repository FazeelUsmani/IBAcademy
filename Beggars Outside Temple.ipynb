{
 "cells": [
  {
   "cell_type": "markdown",
   "metadata": {},
   "source": [
    "## Beggars Outside Temple:\n",
    "There are N (N > 0) beggars sitting in a row outside a temple. Each beggar initially has an empty pot. When the devotees come to the temple, they donate some amount of coins to these beggars. Each devotee gives a fixed amount of coin(according to his faith and ability) to some K beggars sitting next to each other. Given the amount donated by each devotee to the beggars ranging from i to j index, where 1 <= i <= j <= N, find out the final amount of money in each beggar's pot at the end of the day, provided they don't fill their pots by any other means.\n",
    "\n",
    "### Input:\n",
    "N = 5\n",
    "\n",
    "D = [[1, 2, 10], [2, 3, 20], [2, 5, 25]]\n",
    "\n",
    "### Output: \n",
    "[10, 55, 45, 25, 25]\n",
    "\n",
    "### Explanation:\n",
    "\n",
    "=> First devotee donated 10 coins to beggars ranging from 1 to 2. Final amount in each beggars pot after first devotee: [10, 10, 0, 0, 0]\n",
    "\n",
    "=> Second devotee donated 20 coins to beggars ranging from 2 to 3. Final amount in each beggars pot after second devotee: [10, 30, 20, 0, 0]\n",
    "\n",
    "=> Third devotee donated 25 coins to beggars ranging from 2 to 5. Final amount in each beggars pot after third devotee: [10, 55, 45, 25, 25]"
   ]
  },
  {
   "cell_type": "code",
   "execution_count": 26,
   "metadata": {},
   "outputs": [
    {
     "name": "stdout",
     "output_type": "stream",
     "text": [
      "10 55 45 25 25 "
     ]
    }
   ],
   "source": [
    "def solve(n, d):\n",
    "    #print(d[0][2])\n",
    "    res = [0] * n\n",
    "    \n",
    "    for i in range(len(d)):\n",
    "        start_index = d[i][0]\n",
    "        res[start_index-1] += d[i][2]\n",
    "        #print(res[start_index])\n",
    "        end_index = d[i][1]\n",
    "        end_index -= 1\n",
    "        #print(end_index)\n",
    "        if end_index != n-1:\n",
    "            res[end_index+1] -= d[i][2]\n",
    "    #print(res)\n",
    "    sum = 0\n",
    "    for i in range(len(res)):\n",
    "        sum += res[i]\n",
    "        res[i] = sum\n",
    "        \n",
    "    return res\n",
    "    \n",
    "    \n",
    "N = 5\n",
    "D = [[1, 2, 10], [2, 3, 20], [2, 5, 25]]\n",
    "res = solve(N, D)\n",
    "for ele in res:\n",
    "        print(ele, end = ' ')"
   ]
  }
 ],
 "metadata": {
  "kernelspec": {
   "display_name": "Python 3",
   "language": "python",
   "name": "python3"
  },
  "language_info": {
   "codemirror_mode": {
    "name": "ipython",
    "version": 3
   },
   "file_extension": ".py",
   "mimetype": "text/x-python",
   "name": "python",
   "nbconvert_exporter": "python",
   "pygments_lexer": "ipython3",
   "version": "3.7.3"
  }
 },
 "nbformat": 4,
 "nbformat_minor": 2
}
