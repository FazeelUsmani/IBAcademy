{
 "cells": [
  {
   "cell_type": "markdown",
   "metadata": {},
   "source": [
    "## Max Non Negative SubArray:\n",
    "Given an array of integers, A of length N, find out the maximum sum sub-array of non negative numbers from A. The sub-array should be contiguous i.e., a sub-array created by choosing the second and fourth element and skipping the third element is invalid. Maximum sub-array is defined in terms of the sum of the elements in the sub-array. Find and return the required subarray.\n",
    "\n",
    "### NOTE:\n",
    "    1. If there is a tie, then compare with segment's length and return segment which has maximum length.\n",
    "    2. If there is still a tie, then return the segment with minimum starting index.\n",
    "\n",
    "### Input Format:\n",
    "The first and the only argument of input contains an integer array A, of length N.\n",
    "\n",
    "### Output Format:\n",
    "Return an array of integers, that is a subarray of A that satisfies the given conditions.\n",
    "\n",
    "### Constraints:\n",
    "1 <= N <= 1e5\n",
    "\n",
    "1 <= A[i] <= 1e5\n",
    "\n",
    "## Examples:\n",
    "\n",
    "### Input 1:\n",
    "    A = [1, 2, 5, -7, 2, 3]\n",
    "\n",
    "### Output 1:\n",
    "    [1, 2, 5]\n",
    "\n",
    "### Explanation 1:\n",
    "    The two sub-arrays are [1, 2, 5] [2, 3].\n",
    "    The answer is [1, 2, 5] as its sum is larger than [2, 3].\n",
    "\n",
    "### Input 2:\n",
    "    A = [10, -1, 2, 3, -4, 100]\n",
    "\n",
    "### Output 2:\n",
    "    [100]\n",
    "\n",
    "### Explanation 2:\n",
    "    The three sub-arrays are [10], [2, 3], [100].\n",
    "    The answer is [100] as its sum is larger than the other two."
   ]
  },
  {
   "cell_type": "code",
   "execution_count": 5,
   "metadata": {},
   "outputs": [
    {
     "name": "stdout",
     "output_type": "stream",
     "text": [
      "100 "
     ]
    }
   ],
   "source": [
    "def maxSubArray(l):\n",
    "    maxV, curr_max = 0, 0\n",
    "    start_max, end_max = -1, -1\n",
    "    start_index, end_index = 0, 0\n",
    "    while end_index < len(l):\n",
    "        if l[end_index] > -1:\n",
    "            curr_max += l[end_index]\n",
    "            if curr_max > maxV:\n",
    "                maxV = curr_max\n",
    "                start_max = start_index\n",
    "                end_max = end_index+1\n",
    "            elif curr_max == maxV:\n",
    "                if (end_index+1-start_index) > (end_max-start_max):\n",
    "                    start_max = start_index\n",
    "                    end_max = end_index+1\n",
    "            #print(start_index, end_index, start_max, end_max)\n",
    "        else:\n",
    "            curr_max = 0\n",
    "            start_index = end_index+1\n",
    "        end_index += 1\n",
    "    res = []\n",
    "    if start_index == -1 or end_max == -1:\n",
    "        return res\n",
    "    for i in range(start_max, end_max):\n",
    "        res.append(l[i])\n",
    "    #print(res)\n",
    "    return res    \n",
    "    \n",
    "    \n",
    "l = [10, -1, 2, 3, -4, 100]\n",
    "res = maxSubArray(l)\n",
    "for ele in res:\n",
    "    print(ele, end = ' ')\n",
    "    "
   ]
  }
 ],
 "metadata": {
  "kernelspec": {
   "display_name": "Python 3",
   "language": "python",
   "name": "python3"
  },
  "language_info": {
   "codemirror_mode": {
    "name": "ipython",
    "version": 3
   },
   "file_extension": ".py",
   "mimetype": "text/x-python",
   "name": "python",
   "nbconvert_exporter": "python",
   "pygments_lexer": "ipython3",
   "version": "3.7.3"
  }
 },
 "nbformat": 4,
 "nbformat_minor": 2
}
