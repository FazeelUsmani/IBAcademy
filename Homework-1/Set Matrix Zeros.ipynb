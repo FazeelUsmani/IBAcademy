{
 "cells": [
  {
   "cell_type": "markdown",
   "metadata": {},
   "source": [
    "## Set Matrix Zeros:\n",
    "\n",
    "Given a matrix, A of size M x N of 0s and 1s. If an element is 0, set its entire row and column to 0. \n",
    "### Note: This will be evaluated on the extra memory used. Try to minimize the space and time complexity. \n",
    "\n",
    "### Input Format:\n",
    "The first and the only argument of input contains a 2-d integer matrix, A, of size M x N.\n",
    "\n",
    "### Output Format:\n",
    "Return a 2-d matrix that satisfies the given conditions.\n",
    "\n",
    "### Constraints:\n",
    "1 <= N, M <= 1000\n",
    "\n",
    "0 <= A[i][j] <= 1\n",
    "\n",
    "## Examples:\n",
    "### Input 1:\n",
    "    [   [1, 0, 1],\n",
    "        [1, 1, 1], \n",
    "        [1, 1, 1]   ]\n",
    "\n",
    "### Output 1:\n",
    "    [   [0, 0, 0],\n",
    "        [1, 0, 1],\n",
    "        [1, 0, 1]   ]\n",
    "\n",
    "### Input 2:\n",
    "    [   [1, 0, 1],\n",
    "        [1, 1, 1],\n",
    "        [1, 0, 1]   ]\n",
    "\n",
    "### Output 2:\n",
    "    [   [0, 0, 0],\n",
    "        [1, 0, 1],\n",
    "        [0, 0, 0]   ]"
   ]
  },
  {
   "cell_type": "code",
   "execution_count": 2,
   "metadata": {},
   "outputs": [
    {
     "name": "stdout",
     "output_type": "stream",
     "text": [
      "0 0 0 \n",
      "1 0 1 \n",
      "0 0 0 \n"
     ]
    }
   ],
   "source": [
    "def setZeroes(l):\n",
    "    m = len(l)\n",
    "    n = len(l[0])\n",
    "    r = [1] * m\n",
    "    c = [1] * n\n",
    "    for i in range(m):\n",
    "        for j in range(n):\n",
    "            if l[i][j] == 0:\n",
    "                r[i] = 0\n",
    "                c[j] = 0\n",
    "    for i in range(m):\n",
    "        for j in range(n):\n",
    "            if r[i] == 0 or c[j] == 0:\n",
    "                l[i][j] = 0\n",
    "    return l\n",
    "\n",
    "l = [ [1, 0, 1], \n",
    "        [1, 1, 1], \n",
    "        [1, 0, 1] ]\n",
    "mat = setZeroes(l)\n",
    "R = len(mat)\n",
    "C = len(mat[0])\n",
    "for i in range(0, R):           \n",
    "        for j in range(0, C) : \n",
    "            print(mat[i][j], end = \" \") \n",
    "        print() "
   ]
  }
 ],
 "metadata": {
  "kernelspec": {
   "display_name": "Python 3",
   "language": "python",
   "name": "python3"
  },
  "language_info": {
   "codemirror_mode": {
    "name": "ipython",
    "version": 3
   },
   "file_extension": ".py",
   "mimetype": "text/x-python",
   "name": "python",
   "nbconvert_exporter": "python",
   "pygments_lexer": "ipython3",
   "version": "3.7.3"
  }
 },
 "nbformat": 4,
 "nbformat_minor": 2
}
