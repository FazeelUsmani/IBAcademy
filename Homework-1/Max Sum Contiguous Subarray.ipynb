{
 "cells": [
  {
   "cell_type": "markdown",
   "metadata": {},
   "source": [
    "## Max Sum Contiguous Subarray:\n",
    "\n",
    "Find the contiguous subarray within an array, A of length N which has the largest sum. \n",
    "\n",
    "### Input Format:\n",
    "\n",
    "The first and the only argument contains an integer array, A.\n",
    "\n",
    "### Output Format:\n",
    "\n",
    "Return an integer representing the maximum possible sum of the contiguous subarray.\n",
    "\n",
    "### Constraints:\n",
    "1 <= N <= 1e6\n",
    "\n",
    "-1000 <= A[i] <= 1000\n",
    "\n",
    "## For example:\n",
    "\n",
    "### Input 1:\n",
    "    \n",
    "    A = [1, 2, 3, 4, -10]\n",
    "\n",
    "### Output 1:\n",
    "    \n",
    "    10\n",
    "\n",
    "### Explanation 1:\n",
    "    \n",
    "    The subarray [1, 2, 3, 4] has the maximum possible sum of 10.\n",
    "\n",
    "### Input 2:\n",
    "    \n",
    "    A = [-2, 1, -3, 4, -1, 2, 1, -5, 4]\n",
    "\n",
    "### Output 2:\n",
    "    \n",
    "    6\n",
    "\n",
    "### Explanation 2:\n",
    "    The subarray [4,-1,2,1] has the maximum possible sum of 6."
   ]
  },
  {
   "cell_type": "code",
   "execution_count": 3,
   "metadata": {},
   "outputs": [
    {
     "name": "stdout",
     "output_type": "stream",
     "text": [
      "10\n"
     ]
    }
   ],
   "source": [
    "def maxSubArray(l):\n",
    "    maxV = l[0]\n",
    "    curr_max = l[0]\n",
    "    for i in range(1, len(l)):\n",
    "        curr_max = max(l[i], curr_max+l[i])\n",
    "        maxV = max(maxV, curr_max)\n",
    "    return maxV\n",
    "\n",
    "l = [1, 2, 3, 4, -10]\n",
    "print(maxSubArray(l))"
   ]
  }
 ],
 "metadata": {
  "kernelspec": {
   "display_name": "Python 3",
   "language": "python",
   "name": "python3"
  },
  "language_info": {
   "codemirror_mode": {
    "name": "ipython",
    "version": 3
   },
   "file_extension": ".py",
   "mimetype": "text/x-python",
   "name": "python",
   "nbconvert_exporter": "python",
   "pygments_lexer": "ipython3",
   "version": "3.7.3"
  }
 },
 "nbformat": 4,
 "nbformat_minor": 2
}
