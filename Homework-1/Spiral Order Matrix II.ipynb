{
 "cells": [
  {
   "cell_type": "markdown",
   "metadata": {},
   "source": [
    "## Spiral Order Matrix II:\n",
    "Given an integer A, generate a square matrix filled with elements from 1 to A2 in spiral order. \n",
    "\n",
    "### Input Format:\n",
    "The first and the only argument contains an integer, A.\n",
    "\n",
    "### Output Format:\n",
    "Return a 2-d matrix of size A x A satisfying the spiral order.\n",
    "\n",
    "### Constraints:\n",
    "1 <= A <= 1000\n",
    "\n",
    "## Examples:\n",
    "\n",
    "### Input 1:\n",
    "    A = 3\n",
    "\n",
    "### Output 1:\n",
    "    [   [ 1, 2, 3 ],\n",
    "        [ 8, 9, 4 ],\n",
    "        [ 7, 6, 5 ]   ]\n",
    "\n",
    "### Input 2:\n",
    "    4\n",
    "\n",
    "### Output 2:\n",
    "    [   [1, 2, 3, 4],\n",
    "        [12, 13, 14, 5],\n",
    "        [11, 16, 15, 6],\n",
    "        [10, 9, 8, 7]   ]"
   ]
  },
  {
   "cell_type": "code",
   "execution_count": 22,
   "metadata": {},
   "outputs": [
    {
     "data": {
      "text/plain": [
       "[[1, 2, 3, 4], [12, 13, 14, 5], [11, 16, 15, 6], [10, 9, 8, 7]]"
      ]
     },
     "execution_count": 22,
     "metadata": {},
     "output_type": "execute_result"
    }
   ],
   "source": [
    "def generateMatrix(n):\n",
    "    res = [[0 for i in range(n)]for j in range(n)]\n",
    "    l,r,t,d = 0, n-1, 0, n-1\n",
    "    v = 1\n",
    "    while l <= r and t <= d:\n",
    "        for i in range(l, r+1):\n",
    "            res[t][i] = v\n",
    "            v += 1\n",
    "        t += 1\n",
    "        for i in range(t, d+1):\n",
    "            res[i][r] = v\n",
    "            v += 1\n",
    "        r -= 1\n",
    "        for i in range(r, l-1, -1):\n",
    "            res[d][i] = v\n",
    "            v += 1\n",
    "        d -= 1\n",
    "        for i in range(d, t-1, -1):\n",
    "            res[i][l] = v\n",
    "            v += 1\n",
    "        l += 1\n",
    "    return res\n",
    "\n",
    "generateMatrix(4)"
   ]
  }
 ],
 "metadata": {
  "kernelspec": {
   "display_name": "Python 3",
   "language": "python",
   "name": "python3"
  },
  "language_info": {
   "codemirror_mode": {
    "name": "ipython",
    "version": 3
   },
   "file_extension": ".py",
   "mimetype": "text/x-python",
   "name": "python",
   "nbconvert_exporter": "python",
   "pygments_lexer": "ipython3",
   "version": "3.7.3"
  }
 },
 "nbformat": 4,
 "nbformat_minor": 2
}


