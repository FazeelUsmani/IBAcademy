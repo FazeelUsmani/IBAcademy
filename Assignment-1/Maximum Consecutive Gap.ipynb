{
 "cells": [
  {
   "cell_type": "markdown",
   "metadata": {},
   "source": [
    "## Maximum Consecutive Gap:\n",
    "Given an unsorted array, find the maximum difference between the successive elements in its sorted form. Try to solve it in linear time/space. \n",
    "\n",
    "### Input : \n",
    "[1, 10, 5]\n",
    "\n",
    "### Output : \n",
    "5 \n",
    "\n",
    "Return 0 if the array contains less than 2 elements.\n",
    "\n",
    "You may assume that all the elements in the array are non-negative integers and fit in the 32-bit signed integer range.\n",
    "\n",
    "You may also assume that the difference will not overflow."
   ]
  },
  {
   "cell_type": "code",
   "execution_count": 104,
   "metadata": {},
   "outputs": [
    {
     "data": {
      "text/plain": [
       "4"
      ]
     },
     "execution_count": 104,
     "metadata": {},
     "output_type": "execute_result"
    }
   ],
   "source": [
    "def maxGap(l):\n",
    "    min1 = min(l)\n",
    "    max1 = max(l)\n",
    "    if len(l) < 2 or min1 == max1:\n",
    "        return 0\n",
    "    else:\n",
    "        diff = max1 - min1\n",
    "        if max1 > len(l):\n",
    "            gap = (max1 - min1) // (len(l)-1)\n",
    "        else:\n",
    "            gap = 1\n",
    "        p_inf = 999999999999\n",
    "        n_inf = -999999999999\n",
    "        maxV = [n_inf]*len(l)\n",
    "        minV = [p_inf]*len(l)\n",
    "\n",
    "        for i in range(len(l)):    \n",
    "            bucket_no = (l[i] - min1)// gap\n",
    "            maxV[bucket_no] = max(maxV[bucket_no], l[i])\n",
    "            minV[bucket_no] = min(minV[bucket_no], l[i])\n",
    "            \n",
    "\n",
    "        res = []\n",
    "        for i in range(len(l)):\n",
    "            if minV[i] != p_inf:\n",
    "                res.append(minV[i])\n",
    "            if maxV[i] != n_inf:\n",
    "                res.append(maxV[i])\n",
    "\n",
    "        ans = -1\n",
    "        for i in range(1, len(res)):\n",
    "            ans = max(ans, res[i]-res[i-1])\n",
    "\n",
    "        return ans\n",
    "l = [0,4,4,4,4]\n",
    "maxGap(l)"
   ]
  },
  {
   "cell_type": "code",
   "execution_count": 12,
   "metadata": {},
   "outputs": [
    {
     "name": "stdout",
     "output_type": "stream",
     "text": [
      "5\n"
     ]
    }
   ],
   "source": [
    "def maxGap(l):\n",
    "    l.sort()\n",
    "    #print(l)\n",
    "    maxV = -999999999999\n",
    "    for i in range(1, len(l)):\n",
    "        t = l[i-1]\n",
    "        diff = l[i] - t\n",
    "        maxV = max(diff, maxV)\n",
    "    return maxV\n",
    "\n",
    "l = [1,10,5]\n",
    "print(maxGap(l))\n",
    "\n",
    "\n",
    "# The Time complexity of this approach is O(nlogn)"
   ]
  },
  {
   "cell_type": "code",
   "execution_count": 97,
   "metadata": {},
   "outputs": [
    {
     "data": {
      "text/plain": [
       "5"
      ]
     },
     "execution_count": 97,
     "metadata": {},
     "output_type": "execute_result"
    }
   ],
   "source": [
    "def maximumGap(A):\n",
    "    if len(A) < 2:\n",
    "        return 0\n",
    "    l = sorted(A) # Use 'sorted()' if the given input is tuple or any sequence.\n",
    "                  # Basically, this means for immutable python objects 'sort()' dosn't work\n",
    "                  # This 'sorted()' will return a new object rather than making changes to the original object.\n",
    "    #print(l)\n",
    "    maxV = -999999999999\n",
    "    for i in range(1, len(l)):\n",
    "        t = l[i-1]\n",
    "        diff = l[i] - t\n",
    "        maxV = max(diff, maxV)\n",
    "    return maxV\n",
    "l = [1,10,5]\n",
    "maxGap(l)\n",
    "\n",
    "# The Time complexity of this approach is O(nlogn)"
   ]
  }
 ],
 "metadata": {
  "kernelspec": {
   "display_name": "Python 3",
   "language": "python",
   "name": "python3"
  },
  "language_info": {
   "codemirror_mode": {
    "name": "ipython",
    "version": 3
   },
   "file_extension": ".py",
   "mimetype": "text/x-python",
   "name": "python",
   "nbconvert_exporter": "python",
   "pygments_lexer": "ipython3",
   "version": "3.7.3"
  }
 },
 "nbformat": 4,
 "nbformat_minor": 2
}
