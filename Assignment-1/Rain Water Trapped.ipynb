{
 "cells": [
  {
   "cell_type": "markdown",
   "metadata": {},
   "source": [
    "## Rain Water Trapped:\n",
    "Given n non-negative integers representing an elevation map where the width of each bar is 1, compute how much water it is able to trap after raining. \n",
    "\n",
    "### Input Format\n",
    "The only argument given is integer array A.\n",
    "\n",
    "### Output Format\n",
    "Return the total water it is able to trap after raining..\n",
    "\n",
    "### Input 1:\n",
    "    A = [0,1,0,2,1,0,1,3,2,1,2,1]\n",
    "\n",
    "### Output 1:\n",
    "    6"
   ]
  },
  {
   "cell_type": "code",
   "execution_count": 1,
   "metadata": {},
   "outputs": [
    {
     "name": "stdout",
     "output_type": "stream",
     "text": [
      "6\n"
     ]
    }
   ],
   "source": [
    "def trap(A):\n",
    "    n = len(A)\n",
    "    prefixA = [0] * n\n",
    "    suffixA = [0] * n\n",
    "    vol = 0\n",
    "    prefixA[0] = A[0]\n",
    "    suffixA[n-1] = A[n-1]\n",
    "    for i in range(1, n):\n",
    "        prefixA[i] = max(A[i], prefixA[i-1])\n",
    "    for i in range(n-2, -1, -1):\n",
    "        suffixA[i] = max(A[i], suffixA[i+1])\n",
    "    for i in range(n):\n",
    "        vol += min(prefixA[i], suffixA[i]) - A[i]\n",
    "    return vol\n",
    "\n",
    "A =[0,1,0,2,1,0,1,3,2,1,2,1]\n",
    "print(trap(A))"
   ]
  }
 ],
 "metadata": {
  "kernelspec": {
   "display_name": "Python 3",
   "language": "python",
   "name": "python3"
  },
  "language_info": {
   "codemirror_mode": {
    "name": "ipython",
    "version": 3
   },
   "file_extension": ".py",
   "mimetype": "text/x-python",
   "name": "python",
   "nbconvert_exporter": "python",
   "pygments_lexer": "ipython3",
   "version": "3.7.3"
  }
 },
 "nbformat": 4,
 "nbformat_minor": 2
}
